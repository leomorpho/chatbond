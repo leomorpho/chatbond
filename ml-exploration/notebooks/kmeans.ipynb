{
 "cells": [
  {
   "attachments": {},
   "cell_type": "markdown",
   "metadata": {},
   "source": [
    "# KMeans for finding nearest clusters"
   ]
  },
  {
   "cell_type": "code",
   "execution_count": 25,
   "metadata": {},
   "outputs": [],
   "source": [
    "import pandas as pd\n",
    "from sentence_transformers import SentenceTransformer\n",
    "from sklearn.cluster import KMeans\n",
    "import numpy as np\n",
    "\n",
    "csv_file = \"data/questions.csv\"\n",
    "\n",
    "# Load the CSV into a DataFrame\n",
    "df = pd.read_csv(csv_file)\n",
    "\n",
    "# Get a list of questions\n",
    "questions = df[\"question\"].tolist()\n",
    "\n",
    "# Instantiate the SentenceTransformer model\n",
    "sentence_model = SentenceTransformer(\"all-MiniLM-L6-v2\")\n",
    "\n",
    "# Create embeddings for each question\n",
    "embeddings = sentence_model.encode(questions, show_progress_bar=False).astype(np.float64)"
   ]
  },
  {
   "cell_type": "code",
   "execution_count": 26,
   "metadata": {},
   "outputs": [
    {
     "name": "stderr",
     "output_type": "stream",
     "text": [
      "/usr/local/lib/python3.8/site-packages/sklearn/cluster/_kmeans.py:870: FutureWarning: The default value of `n_init` will change from 10 to 'auto' in 1.4. Set the value of `n_init` explicitly to suppress the warning\n",
      "  warnings.warn(\n"
     ]
    },
    {
     "data": {
      "text/html": [
       "<style>#sk-container-id-2 {color: black;background-color: white;}#sk-container-id-2 pre{padding: 0;}#sk-container-id-2 div.sk-toggleable {background-color: white;}#sk-container-id-2 label.sk-toggleable__label {cursor: pointer;display: block;width: 100%;margin-bottom: 0;padding: 0.3em;box-sizing: border-box;text-align: center;}#sk-container-id-2 label.sk-toggleable__label-arrow:before {content: \"▸\";float: left;margin-right: 0.25em;color: #696969;}#sk-container-id-2 label.sk-toggleable__label-arrow:hover:before {color: black;}#sk-container-id-2 div.sk-estimator:hover label.sk-toggleable__label-arrow:before {color: black;}#sk-container-id-2 div.sk-toggleable__content {max-height: 0;max-width: 0;overflow: hidden;text-align: left;background-color: #f0f8ff;}#sk-container-id-2 div.sk-toggleable__content pre {margin: 0.2em;color: black;border-radius: 0.25em;background-color: #f0f8ff;}#sk-container-id-2 input.sk-toggleable__control:checked~div.sk-toggleable__content {max-height: 200px;max-width: 100%;overflow: auto;}#sk-container-id-2 input.sk-toggleable__control:checked~label.sk-toggleable__label-arrow:before {content: \"▾\";}#sk-container-id-2 div.sk-estimator input.sk-toggleable__control:checked~label.sk-toggleable__label {background-color: #d4ebff;}#sk-container-id-2 div.sk-label input.sk-toggleable__control:checked~label.sk-toggleable__label {background-color: #d4ebff;}#sk-container-id-2 input.sk-hidden--visually {border: 0;clip: rect(1px 1px 1px 1px);clip: rect(1px, 1px, 1px, 1px);height: 1px;margin: -1px;overflow: hidden;padding: 0;position: absolute;width: 1px;}#sk-container-id-2 div.sk-estimator {font-family: monospace;background-color: #f0f8ff;border: 1px dotted black;border-radius: 0.25em;box-sizing: border-box;margin-bottom: 0.5em;}#sk-container-id-2 div.sk-estimator:hover {background-color: #d4ebff;}#sk-container-id-2 div.sk-parallel-item::after {content: \"\";width: 100%;border-bottom: 1px solid gray;flex-grow: 1;}#sk-container-id-2 div.sk-label:hover label.sk-toggleable__label {background-color: #d4ebff;}#sk-container-id-2 div.sk-serial::before {content: \"\";position: absolute;border-left: 1px solid gray;box-sizing: border-box;top: 0;bottom: 0;left: 50%;z-index: 0;}#sk-container-id-2 div.sk-serial {display: flex;flex-direction: column;align-items: center;background-color: white;padding-right: 0.2em;padding-left: 0.2em;position: relative;}#sk-container-id-2 div.sk-item {position: relative;z-index: 1;}#sk-container-id-2 div.sk-parallel {display: flex;align-items: stretch;justify-content: center;background-color: white;position: relative;}#sk-container-id-2 div.sk-item::before, #sk-container-id-2 div.sk-parallel-item::before {content: \"\";position: absolute;border-left: 1px solid gray;box-sizing: border-box;top: 0;bottom: 0;left: 50%;z-index: -1;}#sk-container-id-2 div.sk-parallel-item {display: flex;flex-direction: column;z-index: 1;position: relative;background-color: white;}#sk-container-id-2 div.sk-parallel-item:first-child::after {align-self: flex-end;width: 50%;}#sk-container-id-2 div.sk-parallel-item:last-child::after {align-self: flex-start;width: 50%;}#sk-container-id-2 div.sk-parallel-item:only-child::after {width: 0;}#sk-container-id-2 div.sk-dashed-wrapped {border: 1px dashed gray;margin: 0 0.4em 0.5em 0.4em;box-sizing: border-box;padding-bottom: 0.4em;background-color: white;}#sk-container-id-2 div.sk-label label {font-family: monospace;font-weight: bold;display: inline-block;line-height: 1.2em;}#sk-container-id-2 div.sk-label-container {text-align: center;}#sk-container-id-2 div.sk-container {/* jupyter's `normalize.less` sets `[hidden] { display: none; }` but bootstrap.min.css set `[hidden] { display: none !important; }` so we also need the `!important` here to be able to override the default hidden behavior on the sphinx rendered scikit-learn.org. See: https://github.com/scikit-learn/scikit-learn/issues/21755 */display: inline-block !important;position: relative;}#sk-container-id-2 div.sk-text-repr-fallback {display: none;}</style><div id=\"sk-container-id-2\" class=\"sk-top-container\"><div class=\"sk-text-repr-fallback\"><pre>KMeans(n_clusters=160, random_state=42)</pre><b>In a Jupyter environment, please rerun this cell to show the HTML representation or trust the notebook. <br />On GitHub, the HTML representation is unable to render, please try loading this page with nbviewer.org.</b></div><div class=\"sk-container\" hidden><div class=\"sk-item\"><div class=\"sk-estimator sk-toggleable\"><input class=\"sk-toggleable__control sk-hidden--visually\" id=\"sk-estimator-id-2\" type=\"checkbox\" checked><label for=\"sk-estimator-id-2\" class=\"sk-toggleable__label sk-toggleable__label-arrow\">KMeans</label><div class=\"sk-toggleable__content\"><pre>KMeans(n_clusters=160, random_state=42)</pre></div></div></div></div></div>"
      ],
      "text/plain": [
       "KMeans(n_clusters=160, random_state=42)"
      ]
     },
     "execution_count": 26,
     "metadata": {},
     "output_type": "execute_result"
    }
   ],
   "source": [
    "# Define the number of clusters\n",
    "n_clusters = 160\n",
    "\n",
    "# Create and fit a KMeans model with the defined number of clusters\n",
    "kmeans_model = KMeans(n_clusters=n_clusters, random_state=42)\n",
    "kmeans_model.fit(embeddings)"
   ]
  },
  {
   "cell_type": "code",
   "execution_count": 27,
   "metadata": {},
   "outputs": [],
   "source": [
    "def find_nearest_cluster(embedding, n=5):\n",
    "    # Convert the embedding to double precision\n",
    "    # embedding = embedding.astype(np.float64)\n",
    "    \n",
    "    # Find the cluster that the supplied embedding belongs to\n",
    "    current_cluster = kmeans_model.predict([embedding])[0]\n",
    "    \n",
    "    # Compute distances to the cluster centers\n",
    "    distances = kmeans_model.transform([embedding])\n",
    "\n",
    "    # Sort the distances and find the index of the smallest one (excluding the current cluster)\n",
    "    nearest_clusters = np.argsort(distances[0])\n",
    "    nearest_cluster = None\n",
    "    for cluster in nearest_clusters:\n",
    "        if cluster != current_cluster:\n",
    "            nearest_cluster = cluster\n",
    "            break\n",
    "    \n",
    "    # Get the indices of the questions in the nearest cluster\n",
    "    nearest_indices = np.where(kmeans_model.labels_ == nearest_cluster)[0]\n",
    "\n",
    "    # If we want more questions than available in the nearest cluster, return all of them\n",
    "    if n > len(nearest_indices):\n",
    "        n = len(nearest_indices)\n",
    "\n",
    "    # Sort these indices by their distance to the center of the nearest cluster and get the top 'n'\n",
    "    distances_to_nearest_center = np.linalg.norm(embeddings[nearest_indices] - kmeans_model.cluster_centers_[nearest_cluster], axis=1)\n",
    "    top_n_indices = nearest_indices[np.argsort(distances_to_nearest_center)[:n]]\n",
    "\n",
    "    # Return the questions at these indices\n",
    "    return df[\"question\"].iloc[top_n_indices].tolist()\n"
   ]
  },
  {
   "attachments": {},
   "cell_type": "markdown",
   "metadata": {},
   "source": [
    "## Get top N questions in cluster closest to cluster containing query embedding"
   ]
  },
  {
   "cell_type": "code",
   "execution_count": 28,
   "metadata": {},
   "outputs": [],
   "source": [
    "def get_similar_questions(query, n=5):\n",
    "    # Convert the string to an embedding\n",
    "    embedding = sentence_model.encode([query], show_progress_bar=False).astype(np.float64)\n",
    "\n",
    "    # Find and return the nearest cluster to this embedding\n",
    "    return find_nearest_cluster(embedding[0], n)\n"
   ]
  },
  {
   "cell_type": "code",
   "execution_count": 29,
   "metadata": {},
   "outputs": [
    {
     "data": {
      "text/plain": [
       "['What qualities do you admire most about yourself?',\n",
       " 'What are some of the things you admire about yourself?',\n",
       " \"What's a characteristic you admire in yourself?\",\n",
       " 'What is something you admire about yourself?',\n",
       " 'What is something you admire about yourself or your personality, and why?']"
      ]
     },
     "execution_count": 29,
     "metadata": {},
     "output_type": "execute_result"
    }
   ],
   "source": [
    "get_similar_questions(\"What's one thing you wish I understood better about you?\")"
   ]
  },
  {
   "attachments": {},
   "cell_type": "markdown",
   "metadata": {},
   "source": [
    "## Get top N questions in M clusters closest to cluster containing query embedding"
   ]
  },
  {
   "attachments": {},
   "cell_type": "markdown",
   "metadata": {},
   "source": [
    "### For a single embedding query"
   ]
  },
  {
   "cell_type": "code",
   "execution_count": 31,
   "metadata": {},
   "outputs": [],
   "source": [
    "def find_nearest_cluster(embedding, num_nearest_clusters=5, n=5):\n",
    "    # Find the cluster that the supplied embedding belongs to\n",
    "    current_cluster = kmeans_model.predict([embedding])[0]\n",
    "    \n",
    "    # Compute distances to the cluster centers\n",
    "    distances = kmeans_model.transform([embedding])\n",
    "\n",
    "    # Sort the distances and find the index of the smallest ones (excluding the current cluster)\n",
    "    nearest_clusters = np.argsort(distances[0])\n",
    "    \n",
    "    nearest_clusters = [cluster for cluster in nearest_clusters if cluster != current_cluster]\n",
    "    \n",
    "    nearest_clusters = nearest_clusters[:num_nearest_clusters] # choose nearest v clusters\n",
    "    \n",
    "    nearest_questions = []\n",
    "    \n",
    "    for nearest_cluster in nearest_clusters:\n",
    "        # Get the indices of the questions in the nearest cluster\n",
    "        nearest_indices = np.where(kmeans_model.labels_ == nearest_cluster)[0]\n",
    "\n",
    "        # If we want more questions than available in the nearest cluster, return all of them\n",
    "        if n > len(nearest_indices):\n",
    "            n = len(nearest_indices)\n",
    "\n",
    "        # Sort these indices by their distance to the center of the nearest cluster and get the top 'n'\n",
    "        distances_to_nearest_center = np.linalg.norm(embeddings[nearest_indices] - kmeans_model.cluster_centers_[nearest_cluster], axis=1)\n",
    "        top_n_indices = nearest_indices[np.argsort(distances_to_nearest_center)[:n]]\n",
    "\n",
    "        # Add the questions at these indices to the list\n",
    "        nearest_questions += df[\"question\"].iloc[top_n_indices].tolist()\n",
    "        \n",
    "    return nearest_questions"
   ]
  },
  {
   "cell_type": "code",
   "execution_count": 32,
   "metadata": {},
   "outputs": [
    {
     "data": {
      "text/plain": [
       "['What qualities do you admire most about yourself?',\n",
       " 'What are some of the things you admire about yourself?',\n",
       " \"What's a characteristic you admire in yourself?\",\n",
       " 'What is something you admire about yourself?',\n",
       " 'What is something you admire about yourself or your personality, and why?',\n",
       " \"What are the most important lessons you've learned in life?\",\n",
       " \"What is the most important lesson you've learned in your life?\",\n",
       " \"What's the most important life lesson you've learned so far?\",\n",
       " 'What are some of the important life lessons that your family has taught you?',\n",
       " \"What are the three most important life lessons you've learned so far?\",\n",
       " 'What are some things you are grateful for in your life right now?',\n",
       " 'What is one thing you are grateful for in your life right now?',\n",
       " \"What's something you're grateful for that you have in your life right now?\",\n",
       " 'What is something that you are grateful for in your life?',\n",
       " \"What are some things you're grateful for in your personal life?\",\n",
       " 'What are some changes you would like to make in your life?',\n",
       " \"What are some of the biggest changes you've experienced in your life?\",\n",
       " \"What is the most significant personal change you've made recently?\",\n",
       " \"What's a positive change you've made in your life recently?\",\n",
       " \"What's a change you've made that has had a positive impact on your life?\",\n",
       " \"What's something you'd like to learn more about?\",\n",
       " \"What is something you've always wanted to learn but haven't yet?\",\n",
       " 'What is something new that you learned recently?',\n",
       " \"What is something you've been curious about learning but haven't had the chance to yet?\",\n",
       " 'What are some things you would like to learn more about?']"
      ]
     },
     "execution_count": 32,
     "metadata": {},
     "output_type": "execute_result"
    }
   ],
   "source": [
    "get_similar_questions(\"What's one thing you wish I understood better about you?\")\n"
   ]
  },
  {
   "attachments": {},
   "cell_type": "markdown",
   "metadata": {},
   "source": [
    "### For multiple embedding query (all at once)"
   ]
  },
  {
   "cell_type": "code",
   "execution_count": 52,
   "metadata": {},
   "outputs": [],
   "source": [
    "def find_nearest_clusters_for_multiple_queries(query_embeddings, num_nearest_clusters=5, n=5):\n",
    "    nearest_questions = []\n",
    "\n",
    "    # Iterate through each embedding\n",
    "    for embedding in query_embeddings:\n",
    "        # Find the cluster that the supplied embedding belongs to\n",
    "        current_cluster = kmeans_model.predict([embedding])[0]\n",
    "\n",
    "        # Compute distances to the cluster centers\n",
    "        distances = kmeans_model.transform([embedding])\n",
    "\n",
    "        # Sort the distances and find the index of the smallest ones (excluding the current cluster)\n",
    "        nearest_clusters = np.argsort(distances[0])\n",
    "\n",
    "        nearest_clusters = [cluster for cluster in nearest_clusters if cluster != current_cluster]\n",
    "\n",
    "        nearest_clusters = nearest_clusters[:num_nearest_clusters] # choose nearest v clusters\n",
    "        \n",
    "        for nearest_cluster in nearest_clusters:\n",
    "            # Get the indices of the questions in the nearest cluster\n",
    "            nearest_indices = np.where(kmeans_model.labels_ == nearest_cluster)[0]\n",
    "\n",
    "            # If we want more questions than available in the nearest cluster, return all of them\n",
    "            if n > len(nearest_indices):\n",
    "                n = len(nearest_indices)\n",
    "\n",
    "            # Sort these indices by their distance to the center of the nearest cluster and get the top 'n'\n",
    "            distances_to_nearest_center = np.linalg.norm(embeddings[nearest_indices] - kmeans_model.cluster_centers_[nearest_cluster], axis=1)\n",
    "            top_n_indices = nearest_indices[np.argsort(distances_to_nearest_center)[:n]]\n",
    "\n",
    "            # Add the questions at these indices to the list\n",
    "            nearest_questions += df[\"question\"].iloc[top_n_indices].tolist()\n",
    "\n",
    "    return nearest_questions\n"
   ]
  },
  {
   "cell_type": "code",
   "execution_count": 57,
   "metadata": {},
   "outputs": [],
   "source": [
    "def get_nearest_questions_for_multiple_queries(queries, num_nearest_clusters=5, n=1):\n",
    "    # Convert the strings to embeddings\n",
    "    embeddings = sentence_model.encode(queries, show_progress_bar=False)\n",
    "    \n",
    "    # Find and return the nearest questions for these embeddings\n",
    "    return find_nearest_clusters_for_multiple_queries(embeddings, num_nearest_clusters, n)\n"
   ]
  },
  {
   "cell_type": "code",
   "execution_count": 58,
   "metadata": {},
   "outputs": [
    {
     "data": {
      "text/plain": [
       "['What is the most picturesque outdoor location you have ever visited?',\n",
       " 'What is your favorite piece of clothing and why?',\n",
       " 'What is your love language?',\n",
       " 'In your opinion, what is the ideal role of government?',\n",
       " \"What's your favorite cuisine to cook or bake?\",\n",
       " 'What is the most you have ever won gambling?',\n",
       " 'What is your favorite piece of clothing and why?',\n",
       " 'Do you think there is intelligent life on other planets?',\n",
       " 'What is the most fascinating scientific discovery that has been made in your lifetime?',\n",
       " \"What's your favorite TV or movie franchise and why?\",\n",
       " 'What small changes can we make at home to reduce our environmental impact?',\n",
       " \"Do you have any tips for getting a good night's sleep?\",\n",
       " 'What are some ways you prioritize your personal life while still meeting work responsibilities?',\n",
       " 'What kind of photography do you enjoy most?',\n",
       " 'How do you think climate change will affect our future?']"
      ]
     },
     "execution_count": 58,
     "metadata": {},
     "output_type": "execute_result"
    }
   ],
   "source": [
    "queries = [\"What is the capital of France?\", \"Who won the world series?\", \"How does photosynthesis work?\"]\n",
    "get_nearest_questions_for_multiple_queries(queries)"
   ]
  },
  {
   "attachments": {},
   "cell_type": "markdown",
   "metadata": {},
   "source": [
    "## Get top N questions in M clusters farthest to cluster containing query embedding\n",
    "This can be useful to introduce new content that is not within the space the user has explored."
   ]
  },
  {
   "cell_type": "code",
   "execution_count": 37,
   "metadata": {},
   "outputs": [],
   "source": [
    "def find_questions_in_farthest_clusters(embedding, num_furthest_clusters=5, n=5):\n",
    "    # Find the cluster that the supplied embedding belongs to\n",
    "    current_cluster = kmeans_model.predict([embedding])[0]\n",
    "    \n",
    "    # Compute distances to the cluster centers\n",
    "    distances = kmeans_model.transform([embedding])\n",
    "\n",
    "    # Sort the distances and find the index of the largest ones (excluding the current cluster)\n",
    "    farthest_clusters = np.argsort(distances[0])[::-1]\n",
    "    \n",
    "    farthest_clusters = [cluster for cluster in farthest_clusters if cluster != current_cluster]\n",
    "    \n",
    "    farthest_clusters = farthest_clusters[:num_furthest_clusters]  # choose farthest v clusters\n",
    "    \n",
    "    farthest_questions = []\n",
    "    \n",
    "    for farthest_cluster in farthest_clusters:\n",
    "        # Get the indices of the questions in the farthest cluster\n",
    "        farthest_indices = np.where(kmeans_model.labels_ == farthest_cluster)[0]\n",
    "\n",
    "        # If we want more questions than available in the farthest cluster, return all of them\n",
    "        if n > len(farthest_indices):\n",
    "            n = len(farthest_indices)\n",
    "\n",
    "        # Sort these indices by their distance to the center of the farthest cluster and get the top 'n'\n",
    "        distances_to_farthest_center = np.linalg.norm(embeddings[farthest_indices] - kmeans_model.cluster_centers_[farthest_cluster], axis=1)\n",
    "        top_n_indices = farthest_indices[np.argsort(distances_to_farthest_center)[:n]]\n",
    "\n",
    "        # Add the questions at these indices to the list\n",
    "        farthest_questions += df[\"question\"].iloc[top_n_indices].tolist()\n",
    "        \n",
    "    return farthest_questions\n",
    "\n",
    "def find_farthest_questions(query, n=5):\n",
    "    # Convert the string to an embedding\n",
    "    embedding = sentence_model.encode([query], show_progress_bar=False).astype(np.float64)\n",
    "\n",
    "    # Find and return the nearest cluster to this embedding\n",
    "    return find_questions_in_farthest_clusters(embedding[0], n)\n"
   ]
  },
  {
   "cell_type": "code",
   "execution_count": 38,
   "metadata": {},
   "outputs": [
    {
     "data": {
      "text/plain": [
       "['In what ways do you think globalization has influenced the economy?',\n",
       " 'How do you think globalization has impacted different cultures?',\n",
       " 'How do you think globalization has affected international relations?',\n",
       " 'How do you think globalization has impacted urbanization?',\n",
       " 'In what ways do you think globalization has affected the distribution of wealth?',\n",
       " 'What is your favorite way to celebrate a festival or tradition?',\n",
       " 'What is the most memorable tradition or festival that you have celebrated?',\n",
       " 'What is your favorite aspect of celebrating traditions or festivals?',\n",
       " 'What is the most unique or unusual festival or tradition in your culture?',\n",
       " 'How do you usually celebrate traditions or festivals?',\n",
       " 'What are some potential use cases for cryptocurrency beyond investment?',\n",
       " 'What do you think the future holds for cryptocurrency?',\n",
       " 'What are some common arguments for and against cryptocurrency?',\n",
       " 'What are some potential risks and rewards of investing in cryptocurrency?',\n",
       " 'What role do you see cryptocurrency playing in the global economy?',\n",
       " \"What do you do when you're feeling overwhelmed?\",\n",
       " 'What do you do when you are feeling overwhelmed or stressed?',\n",
       " 'How do you cope when you feel overwhelmed?',\n",
       " 'How do you handle feeling overwhelmed or stressed?',\n",
       " \"What is your strategy for when you're feeling overwhelmed?\",\n",
       " 'What are some ways you manage stress?',\n",
       " 'How do you handle stress and what can you do to manage it more effectively?',\n",
       " 'How do you handle stress?',\n",
       " 'What steps do you take to manage your stress?',\n",
       " 'How do you manage stress in your life?']"
      ]
     },
     "execution_count": 38,
     "metadata": {},
     "output_type": "execute_result"
    }
   ],
   "source": [
    "find_farthest_questions(\"What's one thing you wish I understood better about you?\")\n"
   ]
  },
  {
   "cell_type": "code",
   "execution_count": null,
   "metadata": {},
   "outputs": [],
   "source": []
  }
 ],
 "metadata": {
  "kernelspec": {
   "display_name": "Python 3 (ipykernel)",
   "language": "python",
   "name": "python3"
  },
  "language_info": {
   "codemirror_mode": {
    "name": "ipython",
    "version": 3
   },
   "file_extension": ".py",
   "mimetype": "text/x-python",
   "name": "python",
   "nbconvert_exporter": "python",
   "pygments_lexer": "ipython3",
   "version": "3.8.16"
  },
  "orig_nbformat": 4
 },
 "nbformat": 4,
 "nbformat_minor": 2
}
